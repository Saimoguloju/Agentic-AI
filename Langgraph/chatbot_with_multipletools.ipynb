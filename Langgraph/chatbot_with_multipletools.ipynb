{
 "cells": [
  {
   "cell_type": "code",
   "execution_count": 1,
   "metadata": {},
   "outputs": [],
   "source": [
    "from langchain_community.tools import ArxivQueryRun, WikipediaQueryRun\n",
    "from langchain_community.utilities import WikipediaAPIWrapper, ArxivAPIWrapper"
   ]
  },
  {
   "cell_type": "code",
   "execution_count": 2,
   "metadata": {},
   "outputs": [
    {
     "name": "stdout",
     "output_type": "stream",
     "text": [
      "arxiv\n"
     ]
    }
   ],
   "source": [
    "api_wrapper_arxiv = ArxivAPIWrapper(top_k_results=2,doc_content_chars_max=500)\n",
    "arxiv=ArxivQueryRun(api_wrapper=api_wrapper_arxiv)\n",
    "print(arxiv.name)"
   ]
  },
  {
   "cell_type": "code",
   "execution_count": 3,
   "metadata": {},
   "outputs": [
    {
     "data": {
      "text/plain": [
       "\"Published: 2024-07-22\\nTitle: Attention Is All You Need But You Don't Need All Of It For Inference of Large Language Models\\nAuthors: Georgy Tyukin, Gbetondji J-S Dovonon, Jean Kaddour, Pasquale Minervini\\nSummary: The inference demand for LLMs has skyrocketed in recent months, and serving\\nmodels with low latencies remains challenging due to the quadratic input length\\ncomplexity of the attention layers. In this work, we investigate the effect of\\ndropping MLP and attention layers at inference time o\""
      ]
     },
     "execution_count": 3,
     "metadata": {},
     "output_type": "execute_result"
    }
   ],
   "source": [
    "arxiv.invoke(\"Attention is all you need.\")"
   ]
  },
  {
   "cell_type": "code",
   "execution_count": 4,
   "metadata": {},
   "outputs": [
    {
     "data": {
      "text/plain": [
       "'wikipedia'"
      ]
     },
     "execution_count": 4,
     "metadata": {},
     "output_type": "execute_result"
    }
   ],
   "source": [
    "api_wrapper_wiki = WikipediaAPIWrapper(top_k_results=1,doc_content_chars_max=500)\n",
    "wiki=WikipediaQueryRun(api_wrapper=api_wrapper_wiki)\n",
    "wiki.name"
   ]
  },
  {
   "cell_type": "code",
   "execution_count": 6,
   "metadata": {},
   "outputs": [
    {
     "data": {
      "text/plain": [
       "\"Page: Mahesh Babu\\nSummary: Ghattamaneni Mahesh Babu (born 9 August 1975) is an Indian actor, producer and philanthropist who works in Telugu cinema. He is one of the highest-paid actors in Indian cinema and has featured in Forbes India's Celebrity 100 list since 2012. He has appeared in over 25 films and is a recipient of several accolades including, nine Nandi Awards, two Gaddar Telangana Film Awards, five Filmfare Awards South and four SIIMA Awards.\\nThe younger son of veteran Telugu actor Kris\""
      ]
     },
     "execution_count": 6,
     "metadata": {},
     "output_type": "execute_result"
    }
   ],
   "source": [
    "wiki.invoke(\"Mahesh babu\")"
   ]
  },
  {
   "cell_type": "code",
   "execution_count": 7,
   "metadata": {},
   "outputs": [],
   "source": [
    "from dotenv import load_dotenv\n",
    "load_dotenv()\n",
    "import os\n",
    "\n",
    "os.environ[\"TAVILY_API_KEY\"]=os.getenv(\"TAVILY_API_KEY\")\n",
    "os.environ[\"OPENAI_API_KEY\"]=os.getenv(\"OPENAI_API_KEY\")"
   ]
  },
  {
   "cell_type": "code",
   "execution_count": 9,
   "metadata": {},
   "outputs": [],
   "source": [
    "from langchain_tavily import TavilySearch\n",
    "tavily = TavilySearch()"
   ]
  },
  {
   "cell_type": "code",
   "execution_count": 10,
   "metadata": {},
   "outputs": [
    {
     "data": {
      "text/plain": [
       "{'query': 'India political news',\n",
       " 'follow_up_questions': None,\n",
       " 'answer': None,\n",
       " 'images': [],\n",
       " 'results': [{'title': 'POLITICAL PULSE NEWS - The Indian Express',\n",
       "   'url': 'https://indianexpress.com/section/political-pulse/',\n",
       "   'content': 'Political News 2023: Get daily political news from India and the World with latest politics headlines, current affairs. Also read latest news and reports on Tripura, Meghalaya and Nagaland Assembly elections 2023. Political pulse - A Political news series on ongoing political events in India from indianexpress.com.',\n",
       "   'score': 0.8127637,\n",
       "   'raw_content': None},\n",
       "  {'title': 'Politics News India, Breaking News & Current Political News in India',\n",
       "   'url': 'https://m.timesofindia.com/politics/news',\n",
       "   'content': 'Get all the latest news on Indian Politics, News on Top Politicians in India, Current affairs, Elections, Political News, Current Affairs politics and more on Times of India',\n",
       "   'score': 0.7931224,\n",
       "   'raw_content': None},\n",
       "  {'title': 'Politics News Live, Latest Indian Political News Today - News18',\n",
       "   'url': 'https://www.news18.com/politics/',\n",
       "   'content': 'Politics News Today: Get breaking updates and complete coverage of the latest political news in India and globally. Read live politics and politician news on news18.',\n",
       "   'score': 0.78709817,\n",
       "   'raw_content': None},\n",
       "  {'title': 'Politics News: Live Politics News from India, Latest Politics headlines ...',\n",
       "   'url': 'https://economictimes.indiatimes.com/news/politics',\n",
       "   'content': 'Politics News: Get Live Politics news and updates from India on Indian Politics. Read all the latest Politics headlines, current affairs online and more on Economic Times.',\n",
       "   'score': 0.769306,\n",
       "   'raw_content': None},\n",
       "  {'title': \"India News | Today's latest updates and breaking news from India, Live ...\",\n",
       "   'url': 'https://www.ndtv.com/india',\n",
       "   'content': 'India News | Today\\'s latest updates and breaking news from India, Live India News - NDTV.com Image 2: NDTV News *   Live TV [  Image 3   ](https://www.ndtv.com/video/live/channel/ndtv24x7? *   All India News *   Image 4: img  \"If Peace Will Not Come Quickly...\": What Trump Said After Striking Iran     Image 18: NDTV News India News Image 32: Air India Plane Crash: 9 Days On, Process To Identify Victims Continues Image 34: Air India Starts Releasing Interim Compensation Of Rs 25 Lakh To Crash Victims, Survivors Image 35: Days After Her &quot;Papa, Save Me&quot; SOS, Indian Student In Iran Returns Home Image 41: India Assures Nepal Of Evacuating Its Citizens From Conflict-Hit Iran More News From India Image 42: NDTV News *   News Image 43: NDTV News',\n",
       "   'score': 0.41563448,\n",
       "   'raw_content': None}],\n",
       " 'response_time': 1.14}"
      ]
     },
     "execution_count": 10,
     "metadata": {},
     "output_type": "execute_result"
    }
   ],
   "source": [
    "tavily.invoke(\"India political news\")"
   ]
  },
  {
   "cell_type": "code",
   "execution_count": null,
   "metadata": {},
   "outputs": [],
   "source": []
  }
 ],
 "metadata": {
  "kernelspec": {
   "display_name": ".venv",
   "language": "python",
   "name": "python3"
  },
  "language_info": {
   "codemirror_mode": {
    "name": "ipython",
    "version": 3
   },
   "file_extension": ".py",
   "mimetype": "text/x-python",
   "name": "python",
   "nbconvert_exporter": "python",
   "pygments_lexer": "ipython3",
   "version": "3.12.2"
  }
 },
 "nbformat": 4,
 "nbformat_minor": 2
}
