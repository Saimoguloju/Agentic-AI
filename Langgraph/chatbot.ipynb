{
 "cells": [
  {
   "cell_type": "markdown",
   "metadata": {},
   "source": [
    "### Implementing simple Chatbot Using LangGraph"
   ]
  },
  {
   "cell_type": "code",
   "execution_count": 1,
   "metadata": {},
   "outputs": [],
   "source": [
    "from typing_extensions import TypedDict\n",
    "\n",
    "from langgraph.graph import StateGraph, START, END\n",
    "\n",
    "## Reducers\n",
    "from typing import Annotated\n",
    "from langgraph.graph.message import add_messages"
   ]
  },
  {
   "cell_type": "code",
   "execution_count": 2,
   "metadata": {},
   "outputs": [],
   "source": [
    "class State(TypedDict):\n",
    "    messages:Annotated[list,add_messages]"
   ]
  },
  {
   "cell_type": "code",
   "execution_count": 3,
   "metadata": {},
   "outputs": [],
   "source": [
    "import os\n",
    "from dotenv import load_dotenv\n",
    "load_dotenv()\n",
    "\n",
    "os.environ[\"OPENAI_API_KEY\"]=os.getenv(\"OPENAI_API_KEY\")\n",
    "os.environ[\"GROQ_API_KEY\"]=os.getenv(\"GROQ_API_KEY\")\n"
   ]
  },
  {
   "cell_type": "code",
   "execution_count": 4,
   "metadata": {},
   "outputs": [
    {
     "data": {
      "text/plain": [
       "AIMessage(content='Hello! How can I assist you today?', additional_kwargs={'refusal': None}, response_metadata={'token_usage': {'completion_tokens': 9, 'prompt_tokens': 8, 'total_tokens': 17, 'completion_tokens_details': {'accepted_prediction_tokens': 0, 'audio_tokens': 0, 'reasoning_tokens': 0, 'rejected_prediction_tokens': 0}, 'prompt_tokens_details': {'audio_tokens': 0, 'cached_tokens': 0}}, 'model_name': 'gpt-4o-2024-08-06', 'system_fingerprint': 'fp_a288987b44', 'id': 'chatcmpl-BlZgEqdSjBdRqM9jeL7CtomwXFwbD', 'service_tier': 'default', 'finish_reason': 'stop', 'logprobs': None}, id='run--a846e08d-b090-4d83-b354-a7a4a308df5d-0', usage_metadata={'input_tokens': 8, 'output_tokens': 9, 'total_tokens': 17, 'input_token_details': {'audio': 0, 'cache_read': 0}, 'output_token_details': {'audio': 0, 'reasoning': 0}})"
      ]
     },
     "execution_count": 4,
     "metadata": {},
     "output_type": "execute_result"
    }
   ],
   "source": [
    "from langchain_openai import ChatOpenAI\n",
    "llm=ChatOpenAI(model=\"gpt-4o\")\n",
    "llm.invoke(\"Hello\")"
   ]
  },
  {
   "cell_type": "code",
   "execution_count": 5,
   "metadata": {},
   "outputs": [
    {
     "data": {
      "text/plain": [
       "AIMessage(content=\"\\n<think>\\nOkay, the user is Krish and he mentioned he likes to play cricket. I should respond in a friendly way. Let me start by welcoming him and acknowledging his interest in cricket. Maybe ask him some questions to keep the conversation going. I can ask about his favorite cricket positions, teams, or players. Also, it might be good to mention popular cricket leagues like the IPL to see if he follows those. I should make sure my tone is enthusiastic and approachable. Let me put that together in a natural way without making it sound like a list of questions. Keep it conversational.\\n</think>\\n\\nHey Krish! Nice to meet you! 😊 Cricket is amazing—I love it too! Do you prefer batting, bowling, or fielding? And who's your favorite team or player? Bonus question: Do you follow the IPL? I’d love to hear more about what you enjoy most in the game!\", additional_kwargs={}, response_metadata={'token_usage': {'completion_tokens': 183, 'prompt_tokens': 20, 'total_tokens': 203, 'completion_time': 0.444430557, 'prompt_time': 0.003599844, 'queue_time': 0.38979200399999997, 'total_time': 0.448030401}, 'model_name': 'qwen-qwq-32b', 'system_fingerprint': 'fp_1e88ca32eb', 'finish_reason': 'stop', 'logprobs': None}, id='run--f031a8a6-c8be-4c35-90ad-9c92549bea2b-0', usage_metadata={'input_tokens': 20, 'output_tokens': 183, 'total_tokens': 203})"
      ]
     },
     "execution_count": 5,
     "metadata": {},
     "output_type": "execute_result"
    }
   ],
   "source": [
    "from langchain_groq import ChatGroq\n",
    "\n",
    "llm_groq=ChatGroq(model=\"qwen-qwq-32b\")\n",
    "llm_groq.invoke(\"Hey I am Krish and i like to play cricket\")"
   ]
  },
  {
   "cell_type": "markdown",
   "metadata": {},
   "source": [
    "### We Will start With Creating Nodes"
   ]
  },
  {
   "cell_type": "code",
   "execution_count": 6,
   "metadata": {},
   "outputs": [],
   "source": [
    "def superbot(state:State):\n",
    "    return {\"messages\":[llm_groq.invoke(state['messages'])]}"
   ]
  },
  {
   "cell_type": "code",
   "execution_count": 7,
   "metadata": {},
   "outputs": [
    {
     "data": {
      "image/png": "[encoded data removed]",
      "text/plain": [
       "<IPython.core.display.Image object>"
      ]
     },
     "metadata": {},
     "output_type": "display_data"
    }
   ],
   "source": [
    "graph=StateGraph(State)\n",
    "\n",
    "## node\n",
    "graph.add_node(\"SuperBot\",superbot)\n",
    "## Edges\n",
    "\n",
    "graph.add_edge(START,\"SuperBot\")\n",
    "graph.add_edge(\"SuperBot\",END)\n",
    "\n",
    "\n",
    "graph_builder=graph.compile()\n",
    "\n",
    "\n",
    "## Display\n",
    "from IPython.display import Image, display\n",
    "display(Image(graph_builder.get_graph().draw_mermaid_png()))"
   ]
  },
  {
   "cell_type": "code",
   "execution_count": 8,
   "metadata": {},
   "outputs": [
    {
     "data": {
      "text/plain": [
       "{'messages': [HumanMessage(content='Hi,My name is Krish And I like cricket', additional_kwargs={}, response_metadata={}, id='7162b790-7e90-4fae-a238-5a30d767de62'),\n",
       "  AIMessage(content=\"\\n<think>\\nOkay, the user introduced themselves as Krish and mentioned they like cricket. I should respond warmly. Let me start by greeting them back and acknowledging their name and interest. Maybe ask if they follow any specific teams or players. Also, since they might be interested in a conversation, I can mention some popular cricket topics to keep the chat going. I should keep it friendly and open-ended. Let me check for any recent cricket events to reference, like the recent World Cup or tournaments. Wait, the user hasn't mentioned the current date, so maybe stick to general topics. Perhaps ask about their favorite cricketers or if they play themselves. Make sure the tone is positive and engaging.\\n</think>\\n\\nHello Krish! Nice to meet you. That's a great interest—cricket is such an exciting sport! Do you follow any particular teams or players? And have you ever tried playing yourself? Let me know—I’m always up for chatting about cricket! 🏏\", additional_kwargs={}, response_metadata={'token_usage': {'completion_tokens': 194, 'prompt_tokens': 20, 'total_tokens': 214, 'completion_time': 0.479182532, 'prompt_time': 0.003141888, 'queue_time': 0.24419999199999998, 'total_time': 0.48232442}, 'model_name': 'qwen-qwq-32b', 'system_fingerprint': 'fp_98b01f25b2', 'finish_reason': 'stop', 'logprobs': None}, id='run--61871574-2eff-4531-8862-1957b7c047b5-0', usage_metadata={'input_tokens': 20, 'output_tokens': 194, 'total_tokens': 214})]}"
      ]
     },
     "execution_count": 8,
     "metadata": {},
     "output_type": "execute_result"
    }
   ],
   "source": [
    "## Invocation\n",
    "\n",
    "graph_builder.invoke({'messages':\"Hi,My name is Krish And I like cricket\"})"
   ]
  },
  {
   "cell_type": "markdown",
   "metadata": {},
   "source": [
    "#### Streaming The responses"
   ]
  },
  {
   "cell_type": "code",
   "execution_count": 9,
   "metadata": {},
   "outputs": [
    {
     "name": "stdout",
     "output_type": "stream",
     "text": [
      "{'SuperBot': {'messages': [AIMessage(content='\\n<think>\\nOkay, the user said, \"Hello My name is KRish.\" I need to respond appropriately. Let me start by greeting them back. \"Hello KRish!\" That\\'s friendly. Then maybe ask how I can assist them today. Keep it simple and open-ended so they feel comfortable to explain what they need help with. Let me check for any typos or mistakes. Looks good. Alright, that should work.\\n</think>\\n\\nHello KRish! Nice to meet you. How can I assist you today?', additional_kwargs={}, response_metadata={'token_usage': {'completion_tokens': 103, 'prompt_tokens': 16, 'total_tokens': 119, 'completion_time': 0.241430509, 'prompt_time': 0.002928397, 'queue_time': 0.262791422, 'total_time': 0.244358906}, 'model_name': 'qwen-qwq-32b', 'system_fingerprint': 'fp_a91d9c2cfb', 'finish_reason': 'stop', 'logprobs': None}, id='run--7e4ba4aa-598d-4378-9b86-4b97053ea8f4-0', usage_metadata={'input_tokens': 16, 'output_tokens': 103, 'total_tokens': 119})]}}\n"
     ]
    }
   ],
   "source": [
    "for event in graph_builder.stream({\"messages\":\"Hello My name is KRish\"}):\n",
    "    print(event)"
   ]
  },
  {
   "cell_type": "code",
   "execution_count": null,
   "metadata": {},
   "outputs": [],
   "source": []
  },
  {
   "cell_type": "code",
   "execution_count": null,
   "metadata": {},
   "outputs": [],
   "source": []
  }
 ],
 "metadata": {
  "kernelspec": {
   "display_name": "Python 3",
   "language": "python",
   "name": "python3"
  },
  "language_info": {
   "codemirror_mode": {
    "name": "ipython",
    "version": 3
   },
   "file_extension": ".py",
   "mimetype": "text/x-python",
   "name": "python",
   "nbconvert_exporter": "python",
   "pygments_lexer": "ipython3",
   "version": "3.12.2"
  }
 },
 "nbformat": 4,
 "nbformat_minor": 2
}
