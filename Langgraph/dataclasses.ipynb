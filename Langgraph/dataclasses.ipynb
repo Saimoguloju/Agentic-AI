{
 "cells": [
  {
   "cell_type": "code",
   "execution_count": 2,
   "metadata": {},
   "outputs": [],
   "source": [
    "from typing_extensions import TypedDict\n",
    "from typing import Literal\n",
    "\n",
    "class TypedDictState(TypedDict):\n",
    "    name:str\n",
    "    game:Literal[\"cricket\",\"badminton\"]"
   ]
  },
  {
   "cell_type": "code",
   "execution_count": 5,
   "metadata": {},
   "outputs": [],
   "source": [
    "def play_game(state:TypedDictState):\n",
    "    print(\"---Play Game node has been called --\")\n",
    "    return {\"name\":state['name'] + \" want to play\"} \n",
    "\n",
    "def cricket(state:TypedDictState):\n",
    "    print(\"---Cricket node has been called--\") \n",
    "    return {\"game\":\"cricket\"}\n",
    "\n",
    "def badminton(state: TypedDictState):\n",
    "    print(\"---badminton node has been called --\")\n",
    "    return {\"game\":\"badminton\"}"
   ]
  },
  {
   "cell_type": "code",
   "execution_count": null,
   "metadata": {},
   "outputs": [],
   "source": []
  }
 ],
 "metadata": {
  "kernelspec": {
   "display_name": ".venv",
   "language": "python",
   "name": "python3"
  },
  "language_info": {
   "codemirror_mode": {
    "name": "ipython",
    "version": 3
   },
   "file_extension": ".py",
   "mimetype": "text/x-python",
   "name": "python",
   "nbconvert_exporter": "python",
   "pygments_lexer": "ipython3",
   "version": "3.12.2"
  }
 },
 "nbformat": 4,
 "nbformat_minor": 2
}
