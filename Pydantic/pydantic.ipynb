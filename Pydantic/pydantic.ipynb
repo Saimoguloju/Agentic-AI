{
 "cells": [
  {
   "cell_type": "code",
   "execution_count": 2,
   "metadata": {},
   "outputs": [],
   "source": [
    "from pydantic import BaseModel"
   ]
  },
  {
   "cell_type": "code",
   "execution_count": 3,
   "metadata": {},
   "outputs": [],
   "source": [
    "class Car(BaseModel):\n",
    "    brand:str\n",
    "    price:int\n",
    "    country:str\n",
    "    \n",
    "car = Car(brand='BMW',price=200000000,country='India')"
   ]
  },
  {
   "cell_type": "code",
   "execution_count": 4,
   "metadata": {},
   "outputs": [
    {
     "name": "stdout",
     "output_type": "stream",
     "text": [
      "brand='BMW' price=200000000 country='India'\n"
     ]
    }
   ],
   "source": [
    "print(car)"
   ]
  },
  {
   "cell_type": "code",
   "execution_count": 6,
   "metadata": {},
   "outputs": [
    {
     "data": {
      "text/plain": [
       "__main__.Car"
      ]
     },
     "execution_count": 6,
     "metadata": {},
     "output_type": "execute_result"
    }
   ],
   "source": [
    "type(car)"
   ]
  },
  {
   "cell_type": "code",
   "execution_count": 8,
   "metadata": {},
   "outputs": [
    {
     "name": "stdout",
     "output_type": "stream",
     "text": [
      "Room(names='sai', no_of_people=4, city='Hyderabad')\n"
     ]
    }
   ],
   "source": [
    "from dataclasses import dataclass\n",
    "\n",
    "@dataclass\n",
    "class Room():\n",
    "    names:str\n",
    "    no_of_people:int\n",
    "    city:str\n",
    "    \n",
    "room = Room(names=\"sai\",no_of_people=4,city='Hyderabad')\n",
    "print(room)\n",
    "    \n"
   ]
  },
  {
   "cell_type": "markdown",
   "metadata": {},
   "source": [
    "## 1. Purpose & Core Functionality\n",
    "#### Standard dataclass (from dataclasses in stdlib):\n",
    "- Meant for lightweight data containers—automatically generates __init__, __repr__, __eq__, etc.\n",
    "- No runtime type validation—type hints are for developer reference and static checkers only.\n",
    "\n",
    "#### Pydantic:\n",
    "- Provides runtime validation, automatic type coercion, JSON serialization, schema generation, error reporting, and nested model   handling—ideal for robust data processing, especially in web APIs.\n",
    "\n",
    "## 2. Validation & Type Coercion\n",
    "#### Dataclasses:\n",
    "- Don’t validate types by default. You must write manual checks inside __post_init__, which can be verbose and error-prone.\n",
    "\n",
    "#### Pydantic:\n",
    "- Automatically converts types on instantiation (e.g., \"42\" → 42) and raises detailed validation errors. Supports declarative validation via @validator, and constraints like gt, le, multiple_of, etc.\n",
    "\n",
    "## 3. Performance & Dependencies\n",
    "#### Dataclasses:\n",
    "- Lightweight, fast, and part of the standard library—great for simple, internal data structures.\n",
    "\n",
    "#### Pydantic:\n",
    "- Heavier due to validation logic—slower instantiation, more memory usage, and adds an external dependency. Ideal when data correctness is important, like in APIs or file I/O.\n",
    "\n",
    "## 4. Hybrid Options: pydantic.dataclasses.dataclass vs pydantic.BaseModel\n",
    "#### pydantic.dataclasses.dataclass decorator:\n",
    "- Acts like a standard dataclass but adds optional validation. More lightweight than BaseModel.\n",
    "\n",
    "#### pydantic.BaseModel:\n",
    "- Full-featured model with JSON export (.dict(), .json()), schema generation, validate_assignment, aliasing, and more powerful capabilities—but also more overhead.\n",
    "\n",
    "## 5. Developer Community Perspective\n",
    "#### Many developers note:\n",
    "- Pydantic models are significantly more “heavyweight” than standard dataclasses—they serve mainly as validators.\n",
    "- Pydantic doesn’t make Python more strictly typed—it’s a library to handle complex serialization and validation.\n",
    "\n",
    "# Note:\n",
    "- Use @dataclass for minimal overhead and clean static containers without runtime checks.\n",
    "- Use Pydantic (BaseModel) when data correctness, JSON I/O, and validation are essential.\n",
    "- Use pydantic.dataclasses.dataclass for a hybrid approach—structured models with optional validation."
   ]
  },
  {
   "cell_type": "code",
   "execution_count": null,
   "metadata": {},
   "outputs": [],
   "source": []
  }
 ],
 "metadata": {
  "kernelspec": {
   "display_name": ".venv",
   "language": "python",
   "name": "python3"
  },
  "language_info": {
   "codemirror_mode": {
    "name": "ipython",
    "version": 3
   },
   "file_extension": ".py",
   "mimetype": "text/x-python",
   "name": "python",
   "nbconvert_exporter": "python",
   "pygments_lexer": "ipython3",
   "version": "3.12.2"
  }
 },
 "nbformat": 4,
 "nbformat_minor": 2
}
