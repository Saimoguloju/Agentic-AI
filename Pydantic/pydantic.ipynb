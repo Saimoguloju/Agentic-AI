{
 "cells": [
  {
   "cell_type": "code",
   "execution_count": 2,
   "metadata": {},
   "outputs": [],
   "source": [
    "from pydantic import BaseModel"
   ]
  },
  {
   "cell_type": "code",
   "execution_count": 3,
   "metadata": {},
   "outputs": [],
   "source": [
    "class Car(BaseModel):\n",
    "    brand:str\n",
    "    price:int\n",
    "    country:str\n",
    "    \n",
    "car = Car(brand='BMW',price=200000000,country='India')"
   ]
  },
  {
   "cell_type": "code",
   "execution_count": 4,
   "metadata": {},
   "outputs": [
    {
     "name": "stdout",
     "output_type": "stream",
     "text": [
      "brand='BMW' price=200000000 country='India'\n"
     ]
    }
   ],
   "source": [
    "print(car)"
   ]
  },
  {
   "cell_type": "code",
   "execution_count": 6,
   "metadata": {},
   "outputs": [
    {
     "data": {
      "text/plain": [
       "__main__.Car"
      ]
     },
     "execution_count": 6,
     "metadata": {},
     "output_type": "execute_result"
    }
   ],
   "source": [
    "type(car)"
   ]
  },
  {
   "cell_type": "code",
   "execution_count": 8,
   "metadata": {},
   "outputs": [
    {
     "name": "stdout",
     "output_type": "stream",
     "text": [
      "Room(names='sai', no_of_people=4, city='Hyderabad')\n"
     ]
    }
   ],
   "source": [
    "from dataclasses import dataclass\n",
    "\n",
    "@dataclass\n",
    "class Room():\n",
    "    names:str\n",
    "    no_of_people:int\n",
    "    city:str\n",
    "    \n",
    "room = Room(names=\"sai\",no_of_people=4,city='Hyderabad')\n",
    "print(room)\n",
    "    \n"
   ]
  },
  {
   "cell_type": "markdown",
   "metadata": {},
   "source": [
    "## 1. Purpose & Core Functionality\n",
    "#### Standard dataclass (from dataclasses in stdlib):\n",
    "- Meant for lightweight data containers—automatically generates __init__, __repr__, __eq__, etc.\n",
    "- No runtime type validation—type hints are for developer reference and static checkers only.\n",
    "\n",
    "#### Pydantic:\n",
    "- Provides runtime validation, automatic type coercion, JSON serialization, schema generation, error reporting, and nested model   handling—ideal for robust data processing, especially in web APIs.\n",
    "\n",
    "## 2. Validation & Type Coercion\n",
    "#### Dataclasses:\n",
    "- Don’t validate types by default. You must write manual checks inside __post_init__, which can be verbose and error-prone.\n",
    "\n",
    "#### Pydantic:\n",
    "- Automatically converts types on instantiation (e.g., \"42\" → 42) and raises detailed validation errors. Supports declarative validation via @validator, and constraints like gt, le, multiple_of, etc.\n",
    "\n",
    "## 3. Performance & Dependencies\n",
    "#### Dataclasses:\n",
    "- Lightweight, fast, and part of the standard library—great for simple, internal data structures.\n",
    "\n",
    "#### Pydantic:\n",
    "- Heavier due to validation logic—slower instantiation, more memory usage, and adds an external dependency. Ideal when data correctness is important, like in APIs or file I/O.\n",
    "\n",
    "## 4. Hybrid Options: pydantic.dataclasses.dataclass vs pydantic.BaseModel\n",
    "#### pydantic.dataclasses.dataclass decorator:\n",
    "- Acts like a standard dataclass but adds optional validation. More lightweight than BaseModel.\n",
    "\n",
    "#### pydantic.BaseModel:\n",
    "- Full-featured model with JSON export (.dict(), .json()), schema generation, validate_assignment, aliasing, and more powerful capabilities—but also more overhead.\n",
    "\n",
    "## 5. Developer Community Perspective\n",
    "#### Many developers note:\n",
    "- Pydantic models are significantly more “heavyweight” than standard dataclasses—they serve mainly as validators.\n",
    "- Pydantic doesn’t make Python more strictly typed—it’s a library to handle complex serialization and validation.\n",
    "\n",
    "# Note:\n",
    "- Use @dataclass for minimal overhead and clean static containers without runtime checks.\n",
    "- Use Pydantic (BaseModel) when data correctness, JSON I/O, and validation are essential.\n",
    "- Use pydantic.dataclasses.dataclass for a hybrid approach—structured models with optional validation."
   ]
  },
  {
   "cell_type": "code",
   "execution_count": 11,
   "metadata": {},
   "outputs": [],
   "source": [
    "from typing import Optional\n",
    "\n",
    "class Employee(BaseModel):\n",
    "    id:int\n",
    "    name:str\n",
    "    department:str\n",
    "    salary: Optional[float] = None\n",
    "    is_active: Optional[bool] = True"
   ]
  },
  {
   "cell_type": "code",
   "execution_count": 12,
   "metadata": {},
   "outputs": [
    {
     "name": "stdout",
     "output_type": "stream",
     "text": [
      "id=1 name='john' department='IT' salary=None is_active=True\n"
     ]
    }
   ],
   "source": [
    "emp1 = Employee(id=1,name=\"john\",department='IT')\n",
    "print(emp1)"
   ]
  },
  {
   "cell_type": "code",
   "execution_count": 13,
   "metadata": {},
   "outputs": [
    {
     "name": "stdout",
     "output_type": "stream",
     "text": [
      "id=2 name='Wick' department='Hr' salary=30000.0 is_active=False\n"
     ]
    }
   ],
   "source": [
    "emp2 = Employee(id=2,name=\"Wick\",department='Hr',salary=30000,is_active=False)\n",
    "print(emp2)"
   ]
  },
  {
   "cell_type": "markdown",
   "metadata": {},
   "source": [
    "#### Definition:\n",
    "- Optional[type]: Indicates the field can be none.\n",
    "- Default value (=None or =True): make the field optional\n",
    "- Required fields must still be provided\n",
    "- Pydantic validates types even for optional fields when values are provided."
   ]
  },
  {
   "cell_type": "code",
   "execution_count": 16,
   "metadata": {},
   "outputs": [],
   "source": [
    "from pydantic import BaseModel\n",
    "from typing import List\n",
    "\n",
    "class Classroom(BaseModel):\n",
    "    room_number:str\n",
    "    students: List[str]\n",
    "    capacity: int"
   ]
  },
  {
   "cell_type": "code",
   "execution_count": 17,
   "metadata": {},
   "outputs": [
    {
     "name": "stdout",
     "output_type": "stream",
     "text": [
      "room_number='302' students=['sai', 'vijay', 'vikram'] capacity=30\n"
     ]
    }
   ],
   "source": [
    "classroom = Classroom(\n",
    "    room_number='302',\n",
    "    students=['sai','vijay','vikram'],\n",
    "    capacity=30\n",
    ")\n",
    "\n",
    "print(classroom)"
   ]
  },
  {
   "cell_type": "code",
   "execution_count": 18,
   "metadata": {},
   "outputs": [
    {
     "name": "stdout",
     "output_type": "stream",
     "text": [
      "Alice\n",
      "{'id': 1, 'name': 'Alice', 'email': 'alice@example.com', 'age': 30, 'is_active': True, 'created_at': datetime.datetime(2025, 6, 20, 16, 37, 11, 14814)}\n"
     ]
    }
   ],
   "source": [
    "from pydantic import BaseModel\n",
    "from typing import Optional\n",
    "from datetime import datetime\n",
    "\n",
    "class User(BaseModel):\n",
    "    id: int\n",
    "    name: str\n",
    "    email: str\n",
    "    age: Optional[int] = None\n",
    "    is_active: bool = True\n",
    "    created_at: datetime = datetime.now()\n",
    "\n",
    "# Usage\n",
    "user = User(id=1, name=\"Alice\", email=\"alice@example.com\", age=30)\n",
    "print(user.name) \n",
    "print(user.model_dump())  "
   ]
  },
  {
   "cell_type": "code",
   "execution_count": 21,
   "metadata": {},
   "outputs": [
    {
     "name": "stdout",
     "output_type": "stream",
     "text": [
      "4 validation errors for UserProfile\n",
      "username\n",
      "  String should have at least 3 characters [type=string_too_short, input_value='ab', input_type=str]\n",
      "    For further information visit https://errors.pydantic.dev/2.11/v/string_too_short\n",
      "email\n",
      "  Value error, Invalid email format [type=value_error, input_value='invalid-email', input_type=str]\n",
      "    For further information visit https://errors.pydantic.dev/2.11/v/value_error\n",
      "password\n",
      "  String should have at least 8 characters [type=string_too_short, input_value='123', input_type=str]\n",
      "    For further information visit https://errors.pydantic.dev/2.11/v/string_too_short\n",
      "age\n",
      "  Input should be less than or equal to 120 [type=less_than_equal, input_value=200, input_type=int]\n",
      "    For further information visit https://errors.pydantic.dev/2.11/v/less_than_equal\n"
     ]
    }
   ],
   "source": [
    "from pydantic import BaseModel, field_validator, Field\n",
    "import re\n",
    "\n",
    "class UserProfile(BaseModel):\n",
    "    username: str = Field(..., min_length=3, max_length=20)\n",
    "    email: str\n",
    "    password: str = Field(..., min_length=8)\n",
    "    age: int = Field(..., ge=13, le=120)\n",
    "    \n",
    "    @field_validator('email')\n",
    "    def validate_email(cls, v):\n",
    "        if not re.match(r'^[^@]+@[^@]+\\.[^@]+$', v):\n",
    "            raise ValueError('Invalid email format')\n",
    "        return v\n",
    "    \n",
    "    @field_validator('username')\n",
    "    def validate_username(cls, v):\n",
    "        if not v.isalnum():\n",
    "            raise ValueError('Username must be alphanumeric')\n",
    "        return v\n",
    "\n",
    "# This will raise validation errors\n",
    "try:\n",
    "    user = UserProfile(\n",
    "        username=\"ab\",  \n",
    "        email=\"invalid-email\",\n",
    "        password=\"123\",  \n",
    "        age=200  \n",
    "    )\n",
    "except ValueError as e:\n",
    "    print(e)"
   ]
  },
  {
   "cell_type": "code",
   "execution_count": 22,
   "metadata": {},
   "outputs": [],
   "source": [
    "from typing import List\n",
    "\n",
    "class Address(BaseModel):\n",
    "    street: str\n",
    "    city: str\n",
    "    country: str\n",
    "    zip_code: str\n",
    "\n",
    "class Company(BaseModel):\n",
    "    name: str\n",
    "    address: Address\n",
    "    employees: List[str]\n",
    "\n",
    "class Employee(BaseModel):\n",
    "    name: str\n",
    "    position: str\n",
    "    salary: float\n",
    "    company: Company\n",
    "    home_address: Optional[Address] = None\n",
    "\n",
    "# Usage with nested data\n",
    "company_data = {\n",
    "    \"name\": \"Tech Corp\",\n",
    "    \"address\": {\n",
    "        \"street\": \"123 Tech St\",\n",
    "        \"city\": \"San Francisco\",\n",
    "        \"country\": \"USA\",\n",
    "        \"zip_code\": \"94105\"\n",
    "    },\n",
    "    \"employees\": [\"Alice\", \"Bob\", \"Charlie\"]\n",
    "}\n",
    "\n",
    "employee = Employee(\n",
    "    name=\"Alice\",\n",
    "    position=\"Developer\",\n",
    "    salary=75000,\n",
    "    company=company_data\n",
    ")"
   ]
  },
  {
   "cell_type": "code",
   "execution_count": null,
   "metadata": {},
   "outputs": [],
   "source": []
  },
  {
   "cell_type": "code",
   "execution_count": null,
   "metadata": {},
   "outputs": [],
   "source": []
  }
 ],
 "metadata": {
  "kernelspec": {
   "display_name": ".venv",
   "language": "python",
   "name": "python3"
  },
  "language_info": {
   "codemirror_mode": {
    "name": "ipython",
    "version": 3
   },
   "file_extension": ".py",
   "mimetype": "text/x-python",
   "name": "python",
   "nbconvert_exporter": "python",
   "pygments_lexer": "ipython3",
   "version": "3.12.2"
  }
 },
 "nbformat": 4,
 "nbformat_minor": 2
}
